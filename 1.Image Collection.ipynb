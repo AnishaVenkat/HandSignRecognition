{
 "cells": [
  {
   "cell_type": "markdown",
   "id": "7b9c9d9f",
   "metadata": {},
   "source": [
    "# Image Collection for Model training and Building:"
   ]
  },
  {
   "cell_type": "code",
   "execution_count": 1,
   "id": "62fe0268",
   "metadata": {},
   "outputs": [],
   "source": [
    "import cv2\n",
    "import os\n",
    "import time"
   ]
  },
  {
   "cell_type": "code",
   "execution_count": 2,
   "id": "720ff70f",
   "metadata": {},
   "outputs": [],
   "source": [
    "labels=['Like','Dislike','ThankYou','ILoveYou']"
   ]
  },
  {
   "cell_type": "code",
   "execution_count": 3,
   "id": "ea5caedd",
   "metadata": {},
   "outputs": [
    {
     "data": {
      "text/plain": [
       "'nt'"
      ]
     },
     "execution_count": 3,
     "metadata": {},
     "output_type": "execute_result"
    }
   ],
   "source": [
    "os.name"
   ]
  },
  {
   "cell_type": "code",
   "execution_count": 4,
   "id": "a4321227",
   "metadata": {},
   "outputs": [
    {
     "name": "stdout",
     "output_type": "stream",
     "text": [
      "Label path: workspace\\Images\\CollectedImage\n"
     ]
    }
   ],
   "source": [
    "#Create directory if it doesnt exists:\n",
    "\n",
    "if os.name=='nt': #this applies for windows machine\n",
    "    label_path=os.path.join(\"workspace\",\"Images\",\"CollectedImage\")\n",
    "    print(\"Label path:\",label_path)\n",
    "    if not os.path.exists(label_path):\n",
    "        os.makedirs(label_path)"
   ]
  },
  {
   "cell_type": "code",
   "execution_count": 5,
   "id": "2b9d9abc",
   "metadata": {},
   "outputs": [
    {
     "name": "stdout",
     "output_type": "stream",
     "text": [
      "Collecting Image for Like,0\n",
      "Collecting Image for Like,1\n",
      "Collecting Image for Like,2\n",
      "Collecting Image for Like,3\n",
      "Collecting Image for Like,4\n",
      "Collecting Image for Like,5\n",
      "Collecting Image for Like,6\n",
      "Collecting Image for Like,7\n",
      "Collecting Image for Like,8\n",
      "Collecting Image for Like,9\n",
      "Collecting Image for Like,10\n",
      "Collecting Image for Like,11\n",
      "Collecting Image for Like,12\n",
      "Collecting Image for Like,13\n",
      "Collecting Image for Like,14\n",
      "Collecting Image for Like,15\n",
      "Collecting Image for Like,16\n",
      "Collecting Image for Like,17\n",
      "Collecting Image for Like,18\n",
      "Collecting Image for Like,19\n",
      "Collecting Image for Like,20\n",
      "Collecting Image for Like,21\n",
      "Collecting Image for Like,22\n",
      "Collecting Image for Like,23\n",
      "Collecting Image for Like,24\n",
      "Collecting Image for Like,25\n",
      "Collecting Image for Like,26\n",
      "Collecting Image for Like,27\n",
      "Collecting Image for Like,28\n",
      "Collecting Image for Like,29\n",
      "Collecting Image for Like,30\n",
      "Collecting Image for Like,31\n",
      "Collecting Image for Like,32\n",
      "Collecting Image for Like,33\n",
      "Collecting Image for Like,34\n",
      "Collecting Image for Like,35\n",
      "Collecting Image for Like,36\n",
      "Collecting Image for Like,37\n",
      "Collecting Image for Like,38\n",
      "Collecting Image for Like,39\n",
      "Collecting Image for Like,40\n",
      "Collecting Image for Like,41\n",
      "Collecting Image for Like,42\n",
      "Collecting Image for Like,43\n",
      "Collecting Image for Like,44\n",
      "Collecting Image for Like,45\n",
      "Collecting Image for Like,46\n",
      "Collecting Image for Like,47\n",
      "Collecting Image for Like,48\n",
      "Collecting Image for Like,49\n",
      "Collecting Image for Dislike,0\n",
      "Collecting Image for Dislike,1\n",
      "Collecting Image for Dislike,2\n",
      "Collecting Image for Dislike,3\n",
      "Collecting Image for Dislike,4\n",
      "Collecting Image for Dislike,5\n",
      "Collecting Image for Dislike,6\n",
      "Collecting Image for Dislike,7\n",
      "Collecting Image for Dislike,8\n",
      "Collecting Image for Dislike,9\n",
      "Collecting Image for Dislike,10\n",
      "Collecting Image for Dislike,11\n",
      "Collecting Image for Dislike,12\n",
      "Collecting Image for Dislike,13\n",
      "Collecting Image for Dislike,14\n",
      "Collecting Image for Dislike,15\n",
      "Collecting Image for Dislike,16\n",
      "Collecting Image for Dislike,17\n",
      "Collecting Image for Dislike,18\n",
      "Collecting Image for Dislike,19\n",
      "Collecting Image for Dislike,20\n",
      "Collecting Image for Dislike,21\n",
      "Collecting Image for Dislike,22\n",
      "Collecting Image for Dislike,23\n",
      "Collecting Image for Dislike,24\n",
      "Collecting Image for Dislike,25\n",
      "Collecting Image for Dislike,26\n",
      "Collecting Image for Dislike,27\n",
      "Collecting Image for Dislike,28\n",
      "Collecting Image for Dislike,29\n",
      "Collecting Image for Dislike,30\n",
      "Collecting Image for Dislike,31\n",
      "Collecting Image for Dislike,32\n",
      "Collecting Image for Dislike,33\n",
      "Collecting Image for Dislike,34\n",
      "Collecting Image for Dislike,35\n",
      "Collecting Image for Dislike,36\n",
      "Collecting Image for Dislike,37\n",
      "Collecting Image for Dislike,38\n",
      "Collecting Image for Dislike,39\n",
      "Collecting Image for Dislike,40\n",
      "Collecting Image for Dislike,41\n",
      "Collecting Image for Dislike,42\n",
      "Collecting Image for Dislike,43\n",
      "Collecting Image for Dislike,44\n",
      "Collecting Image for Dislike,45\n",
      "Collecting Image for Dislike,46\n",
      "Collecting Image for Dislike,47\n",
      "Collecting Image for Dislike,48\n",
      "Collecting Image for Dislike,49\n",
      "Collecting Image for ThankYou,0\n",
      "Collecting Image for ThankYou,1\n",
      "Collecting Image for ThankYou,2\n",
      "Collecting Image for ThankYou,3\n",
      "Collecting Image for ThankYou,4\n",
      "Collecting Image for ThankYou,5\n",
      "Collecting Image for ThankYou,6\n",
      "Collecting Image for ThankYou,7\n",
      "Collecting Image for ThankYou,8\n",
      "Collecting Image for ThankYou,9\n",
      "Collecting Image for ThankYou,10\n",
      "Collecting Image for ThankYou,11\n",
      "Collecting Image for ThankYou,12\n",
      "Collecting Image for ThankYou,13\n",
      "Collecting Image for ThankYou,14\n",
      "Collecting Image for ThankYou,15\n",
      "Collecting Image for ThankYou,16\n",
      "Collecting Image for ThankYou,17\n",
      "Collecting Image for ThankYou,18\n",
      "Collecting Image for ThankYou,19\n",
      "Collecting Image for ThankYou,20\n",
      "Collecting Image for ThankYou,21\n",
      "Collecting Image for ThankYou,22\n",
      "Collecting Image for ThankYou,23\n",
      "Collecting Image for ThankYou,24\n",
      "Collecting Image for ThankYou,25\n",
      "Collecting Image for ThankYou,26\n",
      "Collecting Image for ThankYou,27\n",
      "Collecting Image for ThankYou,28\n",
      "Collecting Image for ThankYou,29\n",
      "Collecting Image for ThankYou,30\n",
      "Collecting Image for ThankYou,31\n",
      "Collecting Image for ThankYou,32\n",
      "Collecting Image for ThankYou,33\n",
      "Collecting Image for ThankYou,34\n",
      "Collecting Image for ThankYou,35\n",
      "Collecting Image for ThankYou,36\n",
      "Collecting Image for ThankYou,37\n",
      "Collecting Image for ThankYou,38\n",
      "Collecting Image for ThankYou,39\n",
      "Collecting Image for ThankYou,40\n",
      "Collecting Image for ThankYou,41\n",
      "Collecting Image for ThankYou,42\n",
      "Collecting Image for ThankYou,43\n",
      "Collecting Image for ThankYou,44\n",
      "Collecting Image for ThankYou,45\n",
      "Collecting Image for ThankYou,46\n",
      "Collecting Image for ThankYou,47\n",
      "Collecting Image for ThankYou,48\n",
      "Collecting Image for ThankYou,49\n",
      "Collecting Image for ILoveYou,0\n",
      "Collecting Image for ILoveYou,1\n",
      "Collecting Image for ILoveYou,2\n",
      "Collecting Image for ILoveYou,3\n",
      "Collecting Image for ILoveYou,4\n",
      "Collecting Image for ILoveYou,5\n",
      "Collecting Image for ILoveYou,6\n",
      "Collecting Image for ILoveYou,7\n",
      "Collecting Image for ILoveYou,8\n",
      "Collecting Image for ILoveYou,9\n",
      "Collecting Image for ILoveYou,10\n",
      "Collecting Image for ILoveYou,11\n",
      "Collecting Image for ILoveYou,12\n",
      "Collecting Image for ILoveYou,13\n",
      "Collecting Image for ILoveYou,14\n",
      "Collecting Image for ILoveYou,15\n",
      "Collecting Image for ILoveYou,16\n",
      "Collecting Image for ILoveYou,17\n",
      "Collecting Image for ILoveYou,18\n",
      "Collecting Image for ILoveYou,19\n",
      "Collecting Image for ILoveYou,20\n",
      "Collecting Image for ILoveYou,21\n",
      "Collecting Image for ILoveYou,22\n",
      "Collecting Image for ILoveYou,23\n",
      "Collecting Image for ILoveYou,24\n",
      "Collecting Image for ILoveYou,25\n",
      "Collecting Image for ILoveYou,26\n",
      "Collecting Image for ILoveYou,27\n",
      "Collecting Image for ILoveYou,28\n",
      "Collecting Image for ILoveYou,29\n",
      "Collecting Image for ILoveYou,30\n",
      "Collecting Image for ILoveYou,31\n",
      "Collecting Image for ILoveYou,32\n",
      "Collecting Image for ILoveYou,33\n",
      "Collecting Image for ILoveYou,34\n",
      "Collecting Image for ILoveYou,35\n",
      "Collecting Image for ILoveYou,36\n",
      "Collecting Image for ILoveYou,37\n",
      "Collecting Image for ILoveYou,38\n",
      "Collecting Image for ILoveYou,39\n",
      "Collecting Image for ILoveYou,40\n",
      "Collecting Image for ILoveYou,41\n",
      "Collecting Image for ILoveYou,42\n",
      "Collecting Image for ILoveYou,43\n",
      "Collecting Image for ILoveYou,44\n",
      "Collecting Image for ILoveYou,45\n",
      "Collecting Image for ILoveYou,46\n",
      "Collecting Image for ILoveYou,47\n",
      "Collecting Image for ILoveYou,48\n",
      "Collecting Image for ILoveYou,49\n"
     ]
    }
   ],
   "source": [
    "# With webcam capture various positions of images for better model accuracy:\n",
    "\n",
    "num_images=50 # number of images to capture for model training and testing\n",
    "\n",
    "\n",
    "for label in labels:\n",
    "    cap=cv2.VideoCapture(0)\n",
    "    \n",
    "    time.sleep(5)\n",
    "    for i in range(num_images):\n",
    "        _,frame=cap.read()\n",
    "        file_name=label+'_'+str(i)+'.jpg'\n",
    "        path_to_write=os.path.join(label_path,label)\n",
    "        if not os.path.exists(path_to_write):\n",
    "            os.makedirs(path_to_write)\n",
    "        file_path=path_to_write+'/'+file_name\n",
    "        cv2.imshow(label,frame)\n",
    "        cv2.imwrite(file_path,frame)\n",
    "        print(\"Collecting Image for {},{}\".format(label,i))\n",
    "        time.sleep(2)  \n",
    "            \n",
    "        if cv2.waitKey(1) & 0xFF == ord('q'):\n",
    "            break\n",
    "cap.release()\n",
    "cv2.destroyAllWindows()"
   ]
  },
  {
   "cell_type": "markdown",
   "id": "39eba293",
   "metadata": {},
   "source": [
    "# Image Labelling"
   ]
  },
  {
   "cell_type": "code",
   "execution_count": 16,
   "id": "f10dc942",
   "metadata": {},
   "outputs": [
    {
     "name": "stdout",
     "output_type": "stream",
     "text": [
      "Requirement already satisfied: pyqt5 in c:\\users\\a0g0btd\\documents\\anisha\\ml project\\objectdetection\\nicholasrenotte\\tfod\\lib\\site-packages (5.15.7)\n",
      "Requirement already satisfied: lxml in c:\\users\\a0g0btd\\documents\\anisha\\ml project\\objectdetection\\nicholasrenotte\\tfod\\lib\\site-packages (4.9.1)\n",
      "Requirement already satisfied: PyQt5-Qt5>=5.15.0 in c:\\users\\a0g0btd\\documents\\anisha\\ml project\\objectdetection\\nicholasrenotte\\tfod\\lib\\site-packages (from pyqt5) (5.15.2)\n",
      "Requirement already satisfied: PyQt5-sip<13,>=12.11 in c:\\users\\a0g0btd\\documents\\anisha\\ml project\\objectdetection\\nicholasrenotte\\tfod\\lib\\site-packages (from pyqt5) (12.11.0)\n"
     ]
    }
   ],
   "source": [
    "!pip install --upgrade pyqt5 lxml"
   ]
  },
  {
   "cell_type": "code",
   "execution_count": 18,
   "id": "d16c308c",
   "metadata": {},
   "outputs": [],
   "source": [
    "#Labelling the images:\n",
    "\n",
    "LABELIMG_PATH = os.path.join('Tensorflow', 'labelimg')\n",
    "\n",
    "if not os.path.exists(LABELIMG_PATH):\n",
    "    !mkdir {LABELIMG_PATH}\n",
    "    !git clone \"https://github.com/tzutalin/labelImg\" {LABELIMG_PATH}"
   ]
  },
  {
   "cell_type": "code",
   "execution_count": 20,
   "id": "eaa5026f",
   "metadata": {},
   "outputs": [],
   "source": [
    "LABELIMG_PATH=os.path.join(LABELIMG_PATH,\"labelImg\")\n",
    "if os.name =='nt':\n",
    "    !cd {LABELIMG_PATH}/ && pyrcc5 -o libs/resources.py resources.qrc"
   ]
  },
  {
   "cell_type": "code",
   "execution_count": 21,
   "id": "3721da05",
   "metadata": {},
   "outputs": [
    {
     "name": "stdout",
     "output_type": "stream",
     "text": [
      "Image:C:\\Users\\a0g0btd\\Documents\\Anisha\\ML project\\ObjectDetection\\NicholasRenotte\\workspace\\Images\\CollectedImage\\Dislike\\Dislike_2.jpg -> Annotation:C:/Users/a0g0btd/Documents/Anisha/ML project/ObjectDetection/NicholasRenotte/workspace/Images/CollectedImage/Dislike\\Dislike_2.xml\n",
      "Image:C:\\Users\\a0g0btd\\Documents\\Anisha\\ML project\\ObjectDetection\\NicholasRenotte\\workspace\\Images\\CollectedImage\\Dislike\\Dislike_3.jpg -> Annotation:C:/Users/a0g0btd/Documents/Anisha/ML project/ObjectDetection/NicholasRenotte/workspace/Images/CollectedImage/Dislike\\Dislike_3.xml\n",
      "Image:C:\\Users\\a0g0btd\\Documents\\Anisha\\ML project\\ObjectDetection\\NicholasRenotte\\workspace\\Images\\CollectedImage\\Dislike\\Dislike_5.jpg -> Annotation:C:/Users/a0g0btd/Documents/Anisha/ML project/ObjectDetection/NicholasRenotte/workspace/Images/CollectedImage/Dislike\\Dislike_5.xml\n",
      "Image:C:\\Users\\a0g0btd\\Documents\\Anisha\\ML project\\ObjectDetection\\NicholasRenotte\\workspace\\Images\\CollectedImage\\Dislike\\Dislike_6.jpg -> Annotation:C:/Users/a0g0btd/Documents/Anisha/ML project/ObjectDetection/NicholasRenotte/workspace/Images/CollectedImage/Dislike\\Dislike_6.xml\n",
      "Image:C:\\Users\\a0g0btd\\Documents\\Anisha\\ML project\\ObjectDetection\\NicholasRenotte\\workspace\\Images\\CollectedImage\\Dislike\\Dislike_7.jpg -> Annotation:C:/Users/a0g0btd/Documents/Anisha/ML project/ObjectDetection/NicholasRenotte/workspace/Images/CollectedImage/Dislike\\Dislike_7.xml\n",
      "Image:C:\\Users\\a0g0btd\\Documents\\Anisha\\ML project\\ObjectDetection\\NicholasRenotte\\workspace\\Images\\CollectedImage\\Dislike\\Dislike_8.jpg -> Annotation:C:/Users/a0g0btd/Documents/Anisha/ML project/ObjectDetection/NicholasRenotte/workspace/Images/CollectedImage/Dislike\\Dislike_8.xml\n",
      "Image:C:\\Users\\a0g0btd\\Documents\\Anisha\\ML project\\ObjectDetection\\NicholasRenotte\\workspace\\Images\\CollectedImage\\Dislike\\Dislike_10.jpg -> Annotation:C:/Users/a0g0btd/Documents/Anisha/ML project/ObjectDetection/NicholasRenotte/workspace/Images/CollectedImage/Dislike\\Dislike_10.xml\n",
      "Image:C:\\Users\\a0g0btd\\Documents\\Anisha\\ML project\\ObjectDetection\\NicholasRenotte\\workspace\\Images\\CollectedImage\\Dislike\\Dislike_11.jpg -> Annotation:C:/Users/a0g0btd/Documents/Anisha/ML project/ObjectDetection/NicholasRenotte/workspace/Images/CollectedImage/Dislike\\Dislike_11.xml\n",
      "Image:C:\\Users\\a0g0btd\\Documents\\Anisha\\ML project\\ObjectDetection\\NicholasRenotte\\workspace\\Images\\CollectedImage\\Dislike\\Dislike_12.jpg -> Annotation:C:/Users/a0g0btd/Documents/Anisha/ML project/ObjectDetection/NicholasRenotte/workspace/Images/CollectedImage/Dislike\\Dislike_12.xml\n",
      "Image:C:\\Users\\a0g0btd\\Documents\\Anisha\\ML project\\ObjectDetection\\NicholasRenotte\\workspace\\Images\\CollectedImage\\Dislike\\Dislike_13.jpg -> Annotation:C:/Users/a0g0btd/Documents/Anisha/ML project/ObjectDetection/NicholasRenotte/workspace/Images/CollectedImage/Dislike\\Dislike_13.xml\n",
      "Image:C:\\Users\\a0g0btd\\Documents\\Anisha\\ML project\\ObjectDetection\\NicholasRenotte\\workspace\\Images\\CollectedImage\\Dislike\\Dislike_33.jpg -> Annotation:C:/Users/a0g0btd/Documents/Anisha/ML project/ObjectDetection/NicholasRenotte/workspace/Images/CollectedImage/Dislike\\Dislike_33.xml\n",
      "Image:C:\\Users\\a0g0btd\\Documents\\Anisha\\ML project\\ObjectDetection\\NicholasRenotte\\workspace\\Images\\CollectedImage\\Dislike\\Dislike_41.jpg -> Annotation:C:/Users/a0g0btd/Documents/Anisha/ML project/ObjectDetection/NicholasRenotte/workspace/Images/CollectedImage/Dislike\\Dislike_41.xml\n",
      "Image:C:\\Users\\a0g0btd\\Documents\\Anisha\\ML project\\ObjectDetection\\NicholasRenotte\\workspace\\Images\\CollectedImage\\ILoveYou\\ILoveYou_7.jpg -> Annotation:C:/Users/a0g0btd/Documents/Anisha/ML project/ObjectDetection/NicholasRenotte/workspace/Images/CollectedImage/ILoveYou\\ILoveYou_7.xml\n",
      "Image:C:\\Users\\a0g0btd\\Documents\\Anisha\\ML project\\ObjectDetection\\NicholasRenotte\\workspace\\Images\\CollectedImage\\ILoveYou\\ILoveYou_8.jpg -> Annotation:C:/Users/a0g0btd/Documents/Anisha/ML project/ObjectDetection/NicholasRenotte/workspace/Images/CollectedImage/ILoveYou\\ILoveYou_8.xml\n",
      "Image:C:\\Users\\a0g0btd\\Documents\\Anisha\\ML project\\ObjectDetection\\NicholasRenotte\\workspace\\Images\\CollectedImage\\ILoveYou\\ILoveYou_18.jpg -> Annotation:C:/Users/a0g0btd/Documents/Anisha/ML project/ObjectDetection/NicholasRenotte/workspace/Images/CollectedImage/ILoveYou\\ILoveYou_18.xml\n",
      "Image:C:\\Users\\a0g0btd\\Documents\\Anisha\\ML project\\ObjectDetection\\NicholasRenotte\\workspace\\Images\\CollectedImage\\ILoveYou\\ILoveYou_19.jpg -> Annotation:C:/Users/a0g0btd/Documents/Anisha/ML project/ObjectDetection/NicholasRenotte/workspace/Images/CollectedImage/ILoveYou\\ILoveYou_19.xml\n",
      "Image:C:\\Users\\a0g0btd\\Documents\\Anisha\\ML project\\ObjectDetection\\NicholasRenotte\\workspace\\Images\\CollectedImage\\ILoveYou\\ILoveYou_20.jpg -> Annotation:C:/Users/a0g0btd/Documents/Anisha/ML project/ObjectDetection/NicholasRenotte/workspace/Images/CollectedImage/ILoveYou\\ILoveYou_20.xml\n",
      "Cancel creation.\n",
      "Image:C:\\Users\\a0g0btd\\Documents\\Anisha\\ML project\\ObjectDetection\\NicholasRenotte\\workspace\\Images\\CollectedImage\\ILoveYou\\ILoveYou_37.jpg -> Annotation:C:/Users/a0g0btd/Documents/Anisha/ML project/ObjectDetection/NicholasRenotte/workspace/Images/CollectedImage/ILoveYou\\ILoveYou_37.xml\n",
      "Image:C:\\Users\\a0g0btd\\Documents\\Anisha\\ML project\\ObjectDetection\\NicholasRenotte\\workspace\\Images\\CollectedImage\\ILoveYou\\ILoveYou_42.jpg -> Annotation:C:/Users/a0g0btd/Documents/Anisha/ML project/ObjectDetection/NicholasRenotte/workspace/Images/CollectedImage/ILoveYou\\ILoveYou_42.xml\n",
      "Image:C:\\Users\\a0g0btd\\Documents\\Anisha\\ML project\\ObjectDetection\\NicholasRenotte\\workspace\\Images\\CollectedImage\\ILoveYou\\ILoveYou_43.jpg -> Annotation:C:/Users/a0g0btd/Documents/Anisha/ML project/ObjectDetection/NicholasRenotte/workspace/Images/CollectedImage/ILoveYou\\ILoveYou_43.xml\n",
      "Image:C:\\Users\\a0g0btd\\Documents\\Anisha\\ML project\\ObjectDetection\\NicholasRenotte\\workspace\\Images\\CollectedImage\\ILoveYou\\ILoveYou_10.jpg -> Annotation:C:/Users/a0g0btd/Documents/Anisha/ML project/ObjectDetection/NicholasRenotte/workspace/Images/CollectedImage/ILoveYou\\ILoveYou_10.xml\n",
      "Image:C:\\Users\\a0g0btd\\Documents\\Anisha\\ML project\\ObjectDetection\\NicholasRenotte\\workspace\\Images\\CollectedImage\\ILoveYou\\ILoveYou_11.jpg -> Annotation:C:/Users/a0g0btd/Documents/Anisha/ML project/ObjectDetection/NicholasRenotte/workspace/Images/CollectedImage/ILoveYou\\ILoveYou_11.xml\n",
      "Image:C:\\Users\\a0g0btd\\Documents\\Anisha\\ML project\\ObjectDetection\\NicholasRenotte\\workspace\\Images\\CollectedImage\\ILoveYou\\ILoveYou_21.jpg -> Annotation:C:/Users/a0g0btd/Documents/Anisha/ML project/ObjectDetection/NicholasRenotte/workspace/Images/CollectedImage/ILoveYou\\ILoveYou_21.xml\n",
      "Image:C:\\Users\\a0g0btd\\Documents\\Anisha\\ML project\\ObjectDetection\\NicholasRenotte\\workspace\\Images\\CollectedImage\\ILoveYou\\ILoveYou_22.jpg -> Annotation:C:/Users/a0g0btd/Documents/Anisha/ML project/ObjectDetection/NicholasRenotte/workspace/Images/CollectedImage/ILoveYou\\ILoveYou_22.xml\n",
      "Image:C:\\Users\\a0g0btd\\Documents\\Anisha\\ML project\\ObjectDetection\\NicholasRenotte\\workspace\\Images\\CollectedImage\\Like\\Like_0.jpg -> Annotation:C:/Users/a0g0btd/Documents/Anisha/ML project/ObjectDetection/NicholasRenotte/workspace/Images/CollectedImage/Like\\Like_0.xml\n",
      "Image:C:\\Users\\a0g0btd\\Documents\\Anisha\\ML project\\ObjectDetection\\NicholasRenotte\\workspace\\Images\\CollectedImage\\Like\\Like_2.jpg -> Annotation:C:/Users/a0g0btd/Documents/Anisha/ML project/ObjectDetection/NicholasRenotte/workspace/Images/CollectedImage/Like\\Like_2.xml\n",
      "Image:C:\\Users\\a0g0btd\\Documents\\Anisha\\ML project\\ObjectDetection\\NicholasRenotte\\workspace\\Images\\CollectedImage\\Like\\Like_8.jpg -> Annotation:C:/Users/a0g0btd/Documents/Anisha/ML project/ObjectDetection/NicholasRenotte/workspace/Images/CollectedImage/Like\\Like_8.xml\n",
      "Image:C:\\Users\\a0g0btd\\Documents\\Anisha\\ML project\\ObjectDetection\\NicholasRenotte\\workspace\\Images\\CollectedImage\\Like\\Like_27.jpg -> Annotation:C:/Users/a0g0btd/Documents/Anisha/ML project/ObjectDetection/NicholasRenotte/workspace/Images/CollectedImage/Like\\Like_27.xml\n",
      "Image:C:\\Users\\a0g0btd\\Documents\\Anisha\\ML project\\ObjectDetection\\NicholasRenotte\\workspace\\Images\\CollectedImage\\Like\\Like_30.jpg -> Annotation:C:/Users/a0g0btd/Documents/Anisha/ML project/ObjectDetection/NicholasRenotte/workspace/Images/CollectedImage/Like\\Like_30.xml\n",
      "Image:C:\\Users\\a0g0btd\\Documents\\Anisha\\ML project\\ObjectDetection\\NicholasRenotte\\workspace\\Images\\CollectedImage\\Like\\Like_3.jpg -> Annotation:C:/Users/a0g0btd/Documents/Anisha/ML project/ObjectDetection/NicholasRenotte/workspace/Images/CollectedImage/Like\\Like_3.xml\n",
      "Image:C:\\Users\\a0g0btd\\Documents\\Anisha\\ML project\\ObjectDetection\\NicholasRenotte\\workspace\\Images\\CollectedImage\\Like\\Like_4.jpg -> Annotation:C:/Users/a0g0btd/Documents/Anisha/ML project/ObjectDetection/NicholasRenotte/workspace/Images/CollectedImage/Like\\Like_4.xml\n",
      "Image:C:\\Users\\a0g0btd\\Documents\\Anisha\\ML project\\ObjectDetection\\NicholasRenotte\\workspace\\Images\\CollectedImage\\Like\\Like_5.jpg -> Annotation:C:/Users/a0g0btd/Documents/Anisha/ML project/ObjectDetection/NicholasRenotte/workspace/Images/CollectedImage/Like\\Like_5.xml\n",
      "Image:C:\\Users\\a0g0btd\\Documents\\Anisha\\ML project\\ObjectDetection\\NicholasRenotte\\workspace\\Images\\CollectedImage\\Like\\Like_6.jpg -> Annotation:C:/Users/a0g0btd/Documents/Anisha/ML project/ObjectDetection/NicholasRenotte/workspace/Images/CollectedImage/Like\\Like_6.xml\n",
      "Image:C:\\Users\\a0g0btd\\Documents\\Anisha\\ML project\\ObjectDetection\\NicholasRenotte\\workspace\\Images\\CollectedImage\\Like\\Like_19.jpg -> Annotation:C:/Users/a0g0btd/Documents/Anisha/ML project/ObjectDetection/NicholasRenotte/workspace/Images/CollectedImage/Like\\Like_19.xml\n",
      "Image:C:\\Users\\a0g0btd\\Documents\\Anisha\\ML project\\ObjectDetection\\NicholasRenotte\\workspace\\Images\\CollectedImage\\Like\\Like_45.jpg -> Annotation:C:/Users/a0g0btd/Documents/Anisha/ML project/ObjectDetection/NicholasRenotte/workspace/Images/CollectedImage/Like\\Like_45.xml\n",
      "Image:C:\\Users\\a0g0btd\\Documents\\Anisha\\ML project\\ObjectDetection\\NicholasRenotte\\workspace\\Images\\CollectedImage\\Like\\Like_46.jpg -> Annotation:C:/Users/a0g0btd/Documents/Anisha/ML project/ObjectDetection/NicholasRenotte/workspace/Images/CollectedImage/Like\\Like_46.xml\n",
      "Image:C:\\Users\\a0g0btd\\Documents\\Anisha\\ML project\\ObjectDetection\\NicholasRenotte\\workspace\\Images\\CollectedImage\\ThankYou\\ThankYou_3.jpg -> Annotation:C:/Users/a0g0btd/Documents/Anisha/ML project/ObjectDetection/NicholasRenotte/workspace/Images/CollectedImage/ThankYou\\ThankYou_3.xml\n",
      "Image:C:\\Users\\a0g0btd\\Documents\\Anisha\\ML project\\ObjectDetection\\NicholasRenotte\\workspace\\Images\\CollectedImage\\ThankYou\\ThankYou_4.jpg -> Annotation:C:/Users/a0g0btd/Documents/Anisha/ML project/ObjectDetection/NicholasRenotte/workspace/Images/CollectedImage/ThankYou\\ThankYou_4.xml\n",
      "Image:C:\\Users\\a0g0btd\\Documents\\Anisha\\ML project\\ObjectDetection\\NicholasRenotte\\workspace\\Images\\CollectedImage\\ThankYou\\ThankYou_7.jpg -> Annotation:C:/Users/a0g0btd/Documents/Anisha/ML project/ObjectDetection/NicholasRenotte/workspace/Images/CollectedImage/ThankYou\\ThankYou_7.xml\n",
      "Image:C:\\Users\\a0g0btd\\Documents\\Anisha\\ML project\\ObjectDetection\\NicholasRenotte\\workspace\\Images\\CollectedImage\\ThankYou\\ThankYou_11.jpg -> Annotation:C:/Users/a0g0btd/Documents/Anisha/ML project/ObjectDetection/NicholasRenotte/workspace/Images/CollectedImage/ThankYou\\ThankYou_11.xml\n",
      "Image:C:\\Users\\a0g0btd\\Documents\\Anisha\\ML project\\ObjectDetection\\NicholasRenotte\\workspace\\Images\\CollectedImage\\ThankYou\\ThankYou_13.jpg -> Annotation:C:/Users/a0g0btd/Documents/Anisha/ML project/ObjectDetection/NicholasRenotte/workspace/Images/CollectedImage/ThankYou\\ThankYou_13.xml\n",
      "Image:C:\\Users\\a0g0btd\\Documents\\Anisha\\ML project\\ObjectDetection\\NicholasRenotte\\workspace\\Images\\CollectedImage\\ThankYou\\ThankYou_14.jpg -> Annotation:C:/Users/a0g0btd/Documents/Anisha/ML project/ObjectDetection/NicholasRenotte/workspace/Images/CollectedImage/ThankYou\\ThankYou_14.xml\n",
      "Image:C:\\Users\\a0g0btd\\Documents\\Anisha\\ML project\\ObjectDetection\\NicholasRenotte\\workspace\\Images\\CollectedImage\\ThankYou\\ThankYou_18.jpg -> Annotation:C:/Users/a0g0btd/Documents/Anisha/ML project/ObjectDetection/NicholasRenotte/workspace/Images/CollectedImage/ThankYou\\ThankYou_18.xml\n",
      "Image:C:\\Users\\a0g0btd\\Documents\\Anisha\\ML project\\ObjectDetection\\NicholasRenotte\\workspace\\Images\\CollectedImage\\ThankYou\\ThankYou_35.jpg -> Annotation:C:/Users/a0g0btd/Documents/Anisha/ML project/ObjectDetection/NicholasRenotte/workspace/Images/CollectedImage/ThankYou\\ThankYou_35.xml\n",
      "Image:C:\\Users\\a0g0btd\\Documents\\Anisha\\ML project\\ObjectDetection\\NicholasRenotte\\workspace\\Images\\CollectedImage\\ThankYou\\ThankYou_36.jpg -> Annotation:C:/Users/a0g0btd/Documents/Anisha/ML project/ObjectDetection/NicholasRenotte/workspace/Images/CollectedImage/ThankYou\\ThankYou_36.xml\n",
      "Image:C:\\Users\\a0g0btd\\Documents\\Anisha\\ML project\\ObjectDetection\\NicholasRenotte\\workspace\\Images\\CollectedImage\\ThankYou\\ThankYou_37.jpg -> Annotation:C:/Users/a0g0btd/Documents/Anisha/ML project/ObjectDetection/NicholasRenotte/workspace/Images/CollectedImage/ThankYou\\ThankYou_37.xml\n",
      "Image:C:\\Users\\a0g0btd\\Documents\\Anisha\\ML project\\ObjectDetection\\NicholasRenotte\\workspace\\Images\\CollectedImage\\ThankYou\\ThankYou_49.jpg -> Annotation:C:/Users/a0g0btd/Documents/Anisha/ML project/ObjectDetection/NicholasRenotte/workspace/Images/CollectedImage/ThankYou\\ThankYou_49.xml\n",
      "Image:C:\\Users\\a0g0btd\\Documents\\Anisha\\ML project\\ObjectDetection\\NicholasRenotte\\workspace\\Images\\CollectedImage\\ThankYou\\ThankYou_47.jpg -> Annotation:C:/Users/a0g0btd/Documents/Anisha/ML project/ObjectDetection/NicholasRenotte/workspace/Images/CollectedImage/ThankYou\\ThankYou_47.xml\n"
     ]
    }
   ],
   "source": [
    "!cd {LABELIMG_PATH} && python labelImg.py"
   ]
  },
  {
   "cell_type": "markdown",
   "id": "058c92c1",
   "metadata": {},
   "source": [
    "# Split the images for training and testing:"
   ]
  },
  {
   "cell_type": "code",
   "execution_count": null,
   "id": "834b5e72",
   "metadata": {},
   "outputs": [],
   "source": []
  },
  {
   "cell_type": "code",
   "execution_count": null,
   "id": "a4997a4a",
   "metadata": {},
   "outputs": [],
   "source": []
  },
  {
   "cell_type": "code",
   "execution_count": null,
   "id": "90dc3df9",
   "metadata": {},
   "outputs": [],
   "source": []
  },
  {
   "cell_type": "code",
   "execution_count": null,
   "id": "c1a62396",
   "metadata": {},
   "outputs": [],
   "source": []
  },
  {
   "cell_type": "code",
   "execution_count": null,
   "id": "a1d7f0e0",
   "metadata": {},
   "outputs": [],
   "source": []
  },
  {
   "cell_type": "code",
   "execution_count": null,
   "id": "a7e50696",
   "metadata": {},
   "outputs": [],
   "source": []
  },
  {
   "cell_type": "code",
   "execution_count": null,
   "id": "57fa617a",
   "metadata": {},
   "outputs": [],
   "source": []
  },
  {
   "cell_type": "code",
   "execution_count": null,
   "id": "1b53b193",
   "metadata": {},
   "outputs": [],
   "source": []
  },
  {
   "cell_type": "code",
   "execution_count": null,
   "id": "47c26f9e",
   "metadata": {},
   "outputs": [],
   "source": []
  },
  {
   "cell_type": "code",
   "execution_count": null,
   "id": "2dfeaef9",
   "metadata": {},
   "outputs": [],
   "source": []
  }
 ],
 "metadata": {
  "kernelspec": {
   "display_name": "tfod",
   "language": "python",
   "name": "tfod"
  },
  "language_info": {
   "codemirror_mode": {
    "name": "ipython",
    "version": 3
   },
   "file_extension": ".py",
   "mimetype": "text/x-python",
   "name": "python",
   "nbconvert_exporter": "python",
   "pygments_lexer": "ipython3",
   "version": "3.9.12"
  }
 },
 "nbformat": 4,
 "nbformat_minor": 5
}
