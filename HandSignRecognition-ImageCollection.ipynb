{
 "cells": [
  {
   "cell_type": "code",
   "execution_count": null,
   "id": "9fb2efcc",
   "metadata": {},
   "outputs": [],
   "source": [
    "import math\n",
    "import time \n",
    "import cv2\n",
    "import numpy as np\n",
    "counter=0\n"
   ]
  },
  {
   "cell_type": "code",
   "execution_count": null,
   "id": "c71a61cc",
   "metadata": {},
   "outputs": [],
   "source": [
    "from cvzone.HandTrackingModule import HandDetector\n",
    "detector=HandDetector(maxHands=1)"
   ]
  },
  {
   "cell_type": "code",
   "execution_count": null,
   "id": "8b19e055",
   "metadata": {},
   "outputs": [],
   "source": [
    "cap=cv2.VideoCapture(0)\n",
    "img_size=300\n",
    "\n",
    "while True:\n",
    "    ret,frame=cap.read()\n",
    "    \n",
    "    hands,frame=detector.findHands(frame)\n",
    "    offset=20\n",
    "    if hands:\n",
    "        hand=hands[0]\n",
    "        x,y,w,h=hand['bbox']\n",
    "        \n",
    "        cropped_img=frame[y-offset:y+h+offset,x-offset:x+w+offset]\n",
    "        \n",
    "        imgwhite=np.zeros((300,300,3),np.uint8)*255\n",
    "        \n",
    "        imgcroppedshape=cropped_img.shape\n",
    "        \n",
    "        aspect_ratio=h/w\n",
    "        \n",
    "        if aspect_ratio>1:\n",
    "            k=img_size/h\n",
    "            wcal=math.ceil(k*w)\n",
    "            img_resize=cv2.resize(cropped_img,(wcal,img_size))\n",
    "            imgresizeshape=img_resize.shape\n",
    "            Wgap=math.ceil((img_size-wcal)/2)\n",
    "            imgwhite[:,Wgap:wcal+Wgap]=img_resize\n",
    "        else:\n",
    "            k=img_size/w\n",
    "            hcal=math.ceil(k*h)\n",
    "            img_resize=cv2.resize(cropped_img,(hcal,img_size))\n",
    "            imgresizeshape=img_resize.shape\n",
    "            Hgap=math.ceil((img_size-hcal)/2)\n",
    "            imgwhite[:,Hgap:hcal+Hgap]=img_resize\n",
    "            \n",
    "        cv2.imshow(\"white image\",imgwhite)\n",
    "    \n",
    "    key=cv2.waitKey(1)\n",
    "    \n",
    "    if key==ord('s'):\n",
    "        counter=counter+1\n",
    "        file_name='Hello_'+str(counter)+'.jpg'\n",
    "        cv2.imwrite(file_name,imgwhite)\n",
    "        print(counter)\n",
    "        \n",
    "    if key==27:\n",
    "        break\n",
    "        cap.release()"
   ]
  },
  {
   "cell_type": "code",
   "execution_count": null,
   "id": "f6522abe",
   "metadata": {},
   "outputs": [],
   "source": []
  },
  {
   "cell_type": "code",
   "execution_count": null,
   "id": "3cca2d9c",
   "metadata": {},
   "outputs": [],
   "source": []
  },
  {
   "cell_type": "code",
   "execution_count": null,
   "id": "a7124ed7",
   "metadata": {},
   "outputs": [],
   "source": []
  },
  {
   "cell_type": "code",
   "execution_count": null,
   "id": "d603d3be",
   "metadata": {},
   "outputs": [],
   "source": []
  },
  {
   "cell_type": "code",
   "execution_count": null,
   "id": "f867e866",
   "metadata": {},
   "outputs": [],
   "source": []
  },
  {
   "cell_type": "code",
   "execution_count": null,
   "id": "0561ef35",
   "metadata": {},
   "outputs": [],
   "source": []
  },
  {
   "cell_type": "code",
   "execution_count": null,
   "id": "b1cdd542",
   "metadata": {},
   "outputs": [],
   "source": []
  },
  {
   "cell_type": "code",
   "execution_count": null,
   "id": "6bb1c095",
   "metadata": {},
   "outputs": [],
   "source": []
  },
  {
   "cell_type": "code",
   "execution_count": null,
   "id": "0b23cab0",
   "metadata": {},
   "outputs": [],
   "source": []
  },
  {
   "cell_type": "code",
   "execution_count": null,
   "id": "3dcd5cc4",
   "metadata": {},
   "outputs": [],
   "source": []
  },
  {
   "cell_type": "code",
   "execution_count": null,
   "id": "055ece68",
   "metadata": {},
   "outputs": [],
   "source": []
  },
  {
   "cell_type": "code",
   "execution_count": null,
   "id": "3199b239",
   "metadata": {},
   "outputs": [],
   "source": []
  },
  {
   "cell_type": "code",
   "execution_count": null,
   "id": "094e91b6",
   "metadata": {},
   "outputs": [],
   "source": []
  },
  {
   "cell_type": "code",
   "execution_count": null,
   "id": "280120e7",
   "metadata": {},
   "outputs": [],
   "source": []
  },
  {
   "cell_type": "code",
   "execution_count": null,
   "id": "768bf253",
   "metadata": {},
   "outputs": [],
   "source": []
  },
  {
   "cell_type": "code",
   "execution_count": null,
   "id": "8878c0bc",
   "metadata": {},
   "outputs": [],
   "source": []
  },
  {
   "cell_type": "code",
   "execution_count": null,
   "id": "0332bf0f",
   "metadata": {},
   "outputs": [],
   "source": []
  },
  {
   "cell_type": "code",
   "execution_count": null,
   "id": "1c0e6ab4",
   "metadata": {},
   "outputs": [],
   "source": []
  },
  {
   "cell_type": "code",
   "execution_count": null,
   "id": "cabe7146",
   "metadata": {},
   "outputs": [],
   "source": []
  },
  {
   "cell_type": "code",
   "execution_count": null,
   "id": "292e446b",
   "metadata": {},
   "outputs": [],
   "source": []
  },
  {
   "cell_type": "code",
   "execution_count": null,
   "id": "76858f77",
   "metadata": {},
   "outputs": [],
   "source": []
  }
 ],
 "metadata": {
  "kernelspec": {
   "display_name": "Python 3 (ipykernel)",
   "language": "python",
   "name": "python3"
  },
  "language_info": {
   "codemirror_mode": {
    "name": "ipython",
    "version": 3
   },
   "file_extension": ".py",
   "mimetype": "text/x-python",
   "name": "python",
   "nbconvert_exporter": "python",
   "pygments_lexer": "ipython3",
   "version": "3.10.4"
  }
 },
 "nbformat": 4,
 "nbformat_minor": 5
}
